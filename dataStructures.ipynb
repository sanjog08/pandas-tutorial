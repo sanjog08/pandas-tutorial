{
 "cells": [
  {
   "cell_type": "markdown",
   "metadata": {},
   "source": [
    "# Series"
   ]
  },
  {
   "cell_type": "code",
   "execution_count": null,
   "metadata": {},
   "outputs": [],
   "source": [
    "import pandas as pd\n",
    "x = [3, 5, 4, 76, 2, 67, 76, 1, 6, 7, 87, 8, 9]\n",
    "var = pd.Series(x)\n",
    "print(var)\n",
    "print(type(var))\n",
    "print('it becomes an array named var, 4th element of var: ', var[3])"
   ]
  },
  {
   "cell_type": "markdown",
   "metadata": {},
   "source": [
    "# we can give custom indexes to the Series and provide name, datatype, etc"
   ]
  },
  {
   "cell_type": "code",
   "execution_count": null,
   "metadata": {},
   "outputs": [],
   "source": [
    "y = [17, 19, 15, 13, 20]\n",
    "marks = pd.Series(y, index=['i', 'ii', 'iii', 'iv', 'v'], dtype='float', name='DBMS marks')\n",
    "marks"
   ]
  },
  {
   "cell_type": "markdown",
   "metadata": {},
   "source": [
    "# use of dictionary"
   ]
  },
  {
   "cell_type": "code",
   "execution_count": null,
   "metadata": {},
   "outputs": [],
   "source": [
    "dic = {\n",
    "    \"Mahindra\": [\"XUV300\", \"XUV500\", \"XUV700\", \"Thar\", \"Scorpio\"],\n",
    "    \"Hundai\": [\"i10\", \"i10 neu\", \"Grand i10\", \"i20\", \"Verna\", \"Crreta\", \"Alazar\"],\n",
    "    \"Toyota\": [\"Glanza\", \"Urban Cruser\", \"Hybird\", \"Innova\", \"Fortuner\"]\n",
    "}\n",
    "cars = pd.Series(dic, name=\"Car Companies\")\n",
    "print(cars)"
   ]
  },
  {
   "cell_type": "markdown",
   "metadata": {},
   "source": [
    "# multiple entries with single element"
   ]
  },
  {
   "cell_type": "code",
   "execution_count": null,
   "metadata": {},
   "outputs": [],
   "source": [
    "element1 = pd.Series(12, index=[1, 2, 3, 4, 5, 6])\n",
    "element2 = pd.Series(58, index=[1, 2, 3, 4])\n",
    "print(element1 + element2)"
   ]
  }
 ],
 "metadata": {
  "kernelspec": {
   "display_name": "Python 3",
   "language": "python",
   "name": "python3"
  },
  "language_info": {
   "codemirror_mode": {
    "name": "ipython",
    "version": 3
   },
   "file_extension": ".py",
   "mimetype": "text/x-python",
   "name": "python",
   "nbconvert_exporter": "python",
   "pygments_lexer": "ipython3",
   "version": "3.12.3"
  }
 },
 "nbformat": 4,
 "nbformat_minor": 2
}
