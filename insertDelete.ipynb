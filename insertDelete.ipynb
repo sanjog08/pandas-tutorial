{
 "cells": [
  {
   "cell_type": "markdown",
   "metadata": {},
   "source": [
    "# Insert"
   ]
  },
  {
   "cell_type": "code",
   "execution_count": 1,
   "metadata": {},
   "outputs": [
    {
     "name": "stdout",
     "output_type": "stream",
     "text": [
      "   A  B\n",
      "0  1  9\n",
      "1  2  8\n",
      "2  3  7\n",
      "3  4  6\n",
      "4  5  5\n"
     ]
    }
   ],
   "source": [
    "import pandas as pd\n",
    "\n",
    "var = pd.DataFrame({\"A\": [1, 2, 3, 4, 5], \"B\": [9, 8, 7, 6, 5]})\n",
    "print(var)"
   ]
  },
  {
   "cell_type": "code",
   "execution_count": 2,
   "metadata": {},
   "outputs": [
    {
     "name": "stdout",
     "output_type": "stream",
     "text": [
      "   A   C  B\n",
      "0  1  19  9\n",
      "1  2  28  8\n",
      "2  3  37  7\n",
      "3  4  46  6\n",
      "4  5  55  5\n"
     ]
    }
   ],
   "source": [
    "var.insert(1, \"C\", [19, 28, 37, 46, 55])\n",
    "print(var)"
   ]
  },
  {
   "cell_type": "code",
   "execution_count": 3,
   "metadata": {},
   "outputs": [
    {
     "name": "stdout",
     "output_type": "stream",
     "text": [
      "   A   C  B    D\n",
      "0  1  19  9  NaN\n",
      "1  2  28  8  NaN\n",
      "2  3  37  7  3.0\n",
      "3  4  46  6  4.0\n",
      "4  5  55  5  5.0\n"
     ]
    }
   ],
   "source": [
    "var[\"D\"] = var[\"A\"][2:]\n",
    "print(var)"
   ]
  },
  {
   "cell_type": "markdown",
   "metadata": {},
   "source": [
    "# Delete"
   ]
  },
  {
   "cell_type": "code",
   "execution_count": 4,
   "metadata": {},
   "outputs": [
    {
     "name": "stdout",
     "output_type": "stream",
     "text": [
      "   A   C    D\n",
      "0  1  19  NaN\n",
      "1  2  28  NaN\n",
      "2  3  37  3.0\n",
      "3  4  46  4.0\n",
      "4  5  55  5.0\n",
      "\n",
      "the deleted data printed below :-\n",
      "0    9\n",
      "1    8\n",
      "2    7\n",
      "3    6\n",
      "4    5\n",
      "Name: B, dtype: int64\n"
     ]
    }
   ],
   "source": [
    "var1 = var.pop(\"B\")\n",
    "print(var)\n",
    "print(\"\\nthe deleted data printed below :-\")\n",
    "print(var1)"
   ]
  },
  {
   "cell_type": "code",
   "execution_count": 5,
   "metadata": {},
   "outputs": [
    {
     "name": "stdout",
     "output_type": "stream",
     "text": [
      "   A    D\n",
      "0  1  NaN\n",
      "1  2  NaN\n",
      "2  3  3.0\n",
      "3  4  4.0\n",
      "4  5  5.0\n"
     ]
    }
   ],
   "source": [
    "del var[\"C\"]\n",
    "print(var)"
   ]
  }
 ],
 "metadata": {
  "kernelspec": {
   "display_name": "Python 3",
   "language": "python",
   "name": "python3"
  },
  "language_info": {
   "codemirror_mode": {
    "name": "ipython",
    "version": 3
   },
   "file_extension": ".py",
   "mimetype": "text/x-python",
   "name": "python",
   "nbconvert_exporter": "python",
   "pygments_lexer": "ipython3",
   "version": "3.12.3"
  }
 },
 "nbformat": 4,
 "nbformat_minor": 2
}
