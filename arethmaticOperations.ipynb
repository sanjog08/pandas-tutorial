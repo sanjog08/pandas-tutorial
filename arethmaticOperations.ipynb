{
 "cells": [
  {
   "cell_type": "markdown",
   "metadata": {},
   "source": [
    "# Arethmatic Operations"
   ]
  },
  {
   "cell_type": "code",
   "execution_count": null,
   "metadata": {},
   "outputs": [],
   "source": [
    "import pandas as pd\n",
    "var = pd.DataFrame({\"A\":[1, 2, 3, 4, 5], \"B\":[6, 7, 8, 9, 10]})\n",
    "print(var)"
   ]
  },
  {
   "cell_type": "code",
   "execution_count": null,
   "metadata": {},
   "outputs": [],
   "source": [
    "var[\"+\"] = var['A'] + var['B']\n",
    "var[\"-\"] = var['A'] - var['B']\n",
    "var[\"*\"] = var['A'] * var['B']\n",
    "var[\"/\"] = var['A'] / var['B']\n",
    "print(var)"
   ]
  },
  {
   "cell_type": "markdown",
   "metadata": {},
   "source": [
    "# Logical Operations"
   ]
  },
  {
   "cell_type": "code",
   "execution_count": null,
   "metadata": {},
   "outputs": [],
   "source": [
    "var1 = pd.DataFrame({\"A\":[12, 22, 23, 34, 55], \"B\":[16, 17, 81, 92, 110]})\n",
    "var1[\"<= 25\"] = var1['A'] <= 25\n",
    "var1[\">= 80\"] = var1['B'] >= 80\n",
    "print(var1)"
   ]
  }
 ],
 "metadata": {
  "kernelspec": {
   "display_name": "Python 3",
   "language": "python",
   "name": "python3"
  },
  "language_info": {
   "codemirror_mode": {
    "name": "ipython",
    "version": 3
   },
   "file_extension": ".py",
   "mimetype": "text/x-python",
   "name": "python",
   "nbconvert_exporter": "python",
   "pygments_lexer": "ipython3",
   "version": "3.12.3"
  }
 },
 "nbformat": 4,
 "nbformat_minor": 2
}
