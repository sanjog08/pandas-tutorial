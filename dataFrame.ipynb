{
 "cells": [
  {
   "cell_type": "markdown",
   "metadata": {},
   "source": [
    "# Data Frame"
   ]
  },
  {
   "cell_type": "code",
   "execution_count": null,
   "metadata": {},
   "outputs": [],
   "source": [
    "import pandas as pd\n",
    "\n",
    "l = [21, 22, 23, 24, 25, 26]\n",
    "df = pd.DataFrame(l)\n",
    "\n",
    "print(df)\n",
    "print(type(df))"
   ]
  },
  {
   "cell_type": "markdown",
   "metadata": {},
   "source": [
    "# use of dictionary"
   ]
  },
  {
   "cell_type": "code",
   "execution_count": null,
   "metadata": {},
   "outputs": [],
   "source": [
    "dic = {\n",
    "    \"Mahindra\": [\"XUV300\", \"XUV500\", \"XUV700\", \"XUV700ev\", \"Thar ev\", \"Thar\", \"Scorpio\"],\n",
    "    \"Hundai\": [\"i10\", \"i10 neu\", \"Grand i10\", \"i20\", \"Verna\", \"Crreta\", \"Alazar\"],\n",
    "    \"Toyota\": [\"Glanza\", \"Urban Cruser\", \"Hyrider\", \"Hybird\", \"Innova\", \"Innova Crysta\", \"Fortuner\"]\n",
    "}\n",
    "df1 = pd.DataFrame(dic, columns=[\"Mahindra\", \"Hundai\"], index=['i', 'ii', 'iii', 'iv', 'v', 'vi', 'vii'])\n",
    "df2 = pd.DataFrame(dic)\n",
    "print(df1, \"\\n\\n\")\n",
    "print(df2)"
   ]
  },
  {
   "cell_type": "markdown",
   "metadata": {},
   "source": [
    "# use of list of lists"
   ]
  },
  {
   "cell_type": "code",
   "execution_count": null,
   "metadata": {},
   "outputs": [],
   "source": [
    "cars = [[\"XUV300\", \"XUV500\", \"XUV700\", \"XUV700ev\", \"Thar ev\", \"Thar\", \"Scorpio\"], [\"i10\", \"i10 neu\", \"Grand i10\", \"i20\", \"Verna\", \"Crreta\", \"Alazar\"], [\"Glanza\", \"Urban Cruser\", \"Hyrider\", \"Hybird\", \"Innova\", \"Innova Crysta\", \"Fortuner\"]]\n",
    "df3 = pd.DataFrame(cars)\n",
    "print(df3)"
   ]
  }
 ],
 "metadata": {
  "kernelspec": {
   "display_name": "Python 3",
   "language": "python",
   "name": "python3"
  },
  "language_info": {
   "codemirror_mode": {
    "name": "ipython",
    "version": 3
   },
   "file_extension": ".py",
   "mimetype": "text/x-python",
   "name": "python",
   "nbconvert_exporter": "python",
   "pygments_lexer": "ipython3",
   "version": "3.12.3"
  }
 },
 "nbformat": 4,
 "nbformat_minor": 2
}
