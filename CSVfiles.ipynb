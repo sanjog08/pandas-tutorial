{
 "cells": [
  {
   "cell_type": "markdown",
   "metadata": {},
   "source": [
    "# CSV files"
   ]
  },
  {
   "cell_type": "code",
   "execution_count": 1,
   "metadata": {},
   "outputs": [
    {
     "name": "stdout",
     "output_type": "stream",
     "text": [
      "   Mahindra     Hundai         Toyota\n",
      "0    XUV300        i10         Glanza\n",
      "1    XUV500    i10 neu   Urban Cruser\n",
      "2    XUV700  Grand i10        Hyrider\n",
      "3  XUV700ev        i20         Hybird\n",
      "4   Thar ev      Verna         Innova\n",
      "5      Thar     Crreta  Innova Crysta\n",
      "6   Scorpio     Alazar       Fortuner\n"
     ]
    }
   ],
   "source": [
    "import pandas as pd\n",
    "\n",
    "cars = {\n",
    "    \"Mahindra\": [\"XUV300\", \"XUV500\", \"XUV700\", \"XUV700ev\", \"Thar ev\", \"Thar\", \"Scorpio\"],\n",
    "    \"Hundai\": [\"i10\", \"i10 neu\", \"Grand i10\", \"i20\", \"Verna\", \"Crreta\", \"Alazar\"],\n",
    "    \"Toyota\": [\"Glanza\", \"Urban Cruser\", \"Hyrider\", \"Hybird\", \"Innova\", \"Innova Crysta\", \"Fortuner\"]\n",
    "}\n",
    "df = pd.DataFrame(cars)\n",
    "print(df)\n",
    "df.to_csv(\"cars_name.csv\", index=False)"
   ]
  },
  {
   "cell_type": "markdown",
   "metadata": {},
   "source": [
    "# read csv"
   ]
  },
  {
   "cell_type": "code",
   "execution_count": 2,
   "metadata": {},
   "outputs": [
    {
     "name": "stdout",
     "output_type": "stream",
     "text": [
      "   Mahindra     Hundai         Toyota\n",
      "0    XUV300        i10         Glanza\n",
      "1    XUV500    i10 neu   Urban Cruser\n",
      "2    XUV700  Grand i10        Hyrider\n",
      "3  XUV700ev        i20         Hybird\n",
      "4   Thar ev      Verna         Innova\n",
      "5      Thar     Crreta  Innova Crysta\n",
      "6   Scorpio     Alazar       Fortuner\n"
     ]
    }
   ],
   "source": [
    "car_ = pd.read_csv(\"D:\\\\Python codes\\\\Basic Codes\\\\WS Cubes\\\\cars_name.csv\")\n",
    "print(car_)"
   ]
  },
  {
   "cell_type": "code",
   "execution_count": 3,
   "metadata": {},
   "outputs": [
    {
     "name": "stdout",
     "output_type": "stream",
     "text": [
      "  Mahindra     Hundai        Toyota\n",
      "0   XUV300        i10        Glanza\n",
      "1   XUV500    i10 neu  Urban Cruser\n",
      "2   XUV700  Grand i10       Hyrider\n"
     ]
    }
   ],
   "source": [
    "car_1 = pd.read_csv(\"D:\\\\Python codes\\\\Basic Codes\\\\WS Cubes\\\\cars_name.csv\", nrows=3)\n",
    "print(car_1)"
   ]
  },
  {
   "cell_type": "code",
   "execution_count": 4,
   "metadata": {},
   "outputs": [
    {
     "name": "stdout",
     "output_type": "stream",
     "text": [
      "   Mahindra         Toyota\n",
      "0    XUV300         Glanza\n",
      "1    XUV500   Urban Cruser\n",
      "2    XUV700        Hyrider\n",
      "3  XUV700ev         Hybird\n",
      "4   Thar ev         Innova\n",
      "5      Thar  Innova Crysta\n",
      "6   Scorpio       Fortuner\n"
     ]
    }
   ],
   "source": [
    "car_2 = pd.read_csv(\"D:\\\\Python codes\\\\Basic Codes\\\\WS Cubes\\\\cars_name.csv\", usecols=[\"Mahindra\", \"Toyota\"])\n",
    "print(car_2)"
   ]
  },
  {
   "cell_type": "code",
   "execution_count": 5,
   "metadata": {},
   "outputs": [
    {
     "name": "stdout",
     "output_type": "stream",
     "text": [
      "     XUV500    i10 neu   Urban Cruser\n",
      "0    XUV700  Grand i10        Hyrider\n",
      "1  XUV700ev        i20         Hybird\n",
      "2   Thar ev      Verna         Innova\n",
      "3      Thar     Crreta  Innova Crysta\n",
      "4   Scorpio     Alazar       Fortuner\n"
     ]
    }
   ],
   "source": [
    "car_3 = pd.read_csv(\"D:\\\\Python codes\\\\Basic Codes\\\\WS Cubes\\\\cars_name.csv\", skiprows=2)\n",
    "print(car_3)"
   ]
  },
  {
   "cell_type": "code",
   "execution_count": 6,
   "metadata": {},
   "outputs": [
    {
     "name": "stdout",
     "output_type": "stream",
     "text": [
      "           Mahindra         Toyota\n",
      "Hundai                            \n",
      "i10          XUV300         Glanza\n",
      "i10 neu      XUV500   Urban Cruser\n",
      "Grand i10    XUV700        Hyrider\n",
      "i20        XUV700ev         Hybird\n",
      "Verna       Thar ev         Innova\n",
      "Crreta         Thar  Innova Crysta\n",
      "Alazar      Scorpio       Fortuner\n"
     ]
    }
   ],
   "source": [
    "car_4 = pd.read_csv(\"D:\\\\Python codes\\\\Basic Codes\\\\WS Cubes\\\\cars_name.csv\", index_col=\"Hundai\")\n",
    "print(car_4)"
   ]
  },
  {
   "cell_type": "markdown",
   "metadata": {},
   "source": [
    "# CSV functions"
   ]
  },
  {
   "cell_type": "code",
   "execution_count": 7,
   "metadata": {},
   "outputs": [
    {
     "data": {
      "text/plain": [
       "RangeIndex(start=0, stop=7, step=1)"
      ]
     },
     "execution_count": 7,
     "metadata": {},
     "output_type": "execute_result"
    }
   ],
   "source": [
    "cars_ = pd.read_csv(\"D:\\\\Python codes\\\\Basic Codes\\\\WS Cubes\\\\cars_name.csv\")\n",
    "cars_.index"
   ]
  },
  {
   "cell_type": "code",
   "execution_count": 8,
   "metadata": {},
   "outputs": [
    {
     "data": {
      "text/plain": [
       "Index(['Mahindra', 'Hundai', 'Toyota'], dtype='object')"
      ]
     },
     "execution_count": 8,
     "metadata": {},
     "output_type": "execute_result"
    }
   ],
   "source": [
    "cars_.columns"
   ]
  },
  {
   "cell_type": "code",
   "execution_count": 9,
   "metadata": {},
   "outputs": [
    {
     "data": {
      "text/html": [
       "<div>\n",
       "<style scoped>\n",
       "    .dataframe tbody tr th:only-of-type {\n",
       "        vertical-align: middle;\n",
       "    }\n",
       "\n",
       "    .dataframe tbody tr th {\n",
       "        vertical-align: top;\n",
       "    }\n",
       "\n",
       "    .dataframe thead th {\n",
       "        text-align: right;\n",
       "    }\n",
       "</style>\n",
       "<table border=\"1\" class=\"dataframe\">\n",
       "  <thead>\n",
       "    <tr style=\"text-align: right;\">\n",
       "      <th></th>\n",
       "      <th>Mahindra</th>\n",
       "      <th>Hundai</th>\n",
       "      <th>Toyota</th>\n",
       "    </tr>\n",
       "  </thead>\n",
       "  <tbody>\n",
       "    <tr>\n",
       "      <th>count</th>\n",
       "      <td>7</td>\n",
       "      <td>7</td>\n",
       "      <td>7</td>\n",
       "    </tr>\n",
       "    <tr>\n",
       "      <th>unique</th>\n",
       "      <td>7</td>\n",
       "      <td>7</td>\n",
       "      <td>7</td>\n",
       "    </tr>\n",
       "    <tr>\n",
       "      <th>top</th>\n",
       "      <td>XUV300</td>\n",
       "      <td>i10</td>\n",
       "      <td>Glanza</td>\n",
       "    </tr>\n",
       "    <tr>\n",
       "      <th>freq</th>\n",
       "      <td>1</td>\n",
       "      <td>1</td>\n",
       "      <td>1</td>\n",
       "    </tr>\n",
       "  </tbody>\n",
       "</table>\n",
       "</div>"
      ],
      "text/plain": [
       "       Mahindra Hundai  Toyota\n",
       "count         7      7       7\n",
       "unique        7      7       7\n",
       "top      XUV300    i10  Glanza\n",
       "freq          1      1       1"
      ]
     },
     "execution_count": 9,
     "metadata": {},
     "output_type": "execute_result"
    }
   ],
   "source": [
    "cars_.describe()"
   ]
  },
  {
   "cell_type": "code",
   "execution_count": 10,
   "metadata": {},
   "outputs": [
    {
     "data": {
      "text/html": [
       "<div>\n",
       "<style scoped>\n",
       "    .dataframe tbody tr th:only-of-type {\n",
       "        vertical-align: middle;\n",
       "    }\n",
       "\n",
       "    .dataframe tbody tr th {\n",
       "        vertical-align: top;\n",
       "    }\n",
       "\n",
       "    .dataframe thead th {\n",
       "        text-align: right;\n",
       "    }\n",
       "</style>\n",
       "<table border=\"1\" class=\"dataframe\">\n",
       "  <thead>\n",
       "    <tr style=\"text-align: right;\">\n",
       "      <th></th>\n",
       "      <th>Mahindra</th>\n",
       "      <th>Hundai</th>\n",
       "      <th>Toyota</th>\n",
       "    </tr>\n",
       "  </thead>\n",
       "  <tbody>\n",
       "    <tr>\n",
       "      <th>0</th>\n",
       "      <td>XUV300</td>\n",
       "      <td>i10</td>\n",
       "      <td>Glanza</td>\n",
       "    </tr>\n",
       "    <tr>\n",
       "      <th>1</th>\n",
       "      <td>XUV500</td>\n",
       "      <td>i10 neu</td>\n",
       "      <td>Urban Cruser</td>\n",
       "    </tr>\n",
       "    <tr>\n",
       "      <th>2</th>\n",
       "      <td>XUV700</td>\n",
       "      <td>Grand i10</td>\n",
       "      <td>Hyrider</td>\n",
       "    </tr>\n",
       "  </tbody>\n",
       "</table>\n",
       "</div>"
      ],
      "text/plain": [
       "  Mahindra     Hundai        Toyota\n",
       "0   XUV300        i10        Glanza\n",
       "1   XUV500    i10 neu  Urban Cruser\n",
       "2   XUV700  Grand i10       Hyrider"
      ]
     },
     "execution_count": 10,
     "metadata": {},
     "output_type": "execute_result"
    }
   ],
   "source": [
    "cars_.head(3)"
   ]
  },
  {
   "cell_type": "code",
   "execution_count": 11,
   "metadata": {},
   "outputs": [
    {
     "data": {
      "text/html": [
       "<div>\n",
       "<style scoped>\n",
       "    .dataframe tbody tr th:only-of-type {\n",
       "        vertical-align: middle;\n",
       "    }\n",
       "\n",
       "    .dataframe tbody tr th {\n",
       "        vertical-align: top;\n",
       "    }\n",
       "\n",
       "    .dataframe thead th {\n",
       "        text-align: right;\n",
       "    }\n",
       "</style>\n",
       "<table border=\"1\" class=\"dataframe\">\n",
       "  <thead>\n",
       "    <tr style=\"text-align: right;\">\n",
       "      <th></th>\n",
       "      <th>Mahindra</th>\n",
       "      <th>Hundai</th>\n",
       "      <th>Toyota</th>\n",
       "    </tr>\n",
       "  </thead>\n",
       "  <tbody>\n",
       "    <tr>\n",
       "      <th>4</th>\n",
       "      <td>Thar ev</td>\n",
       "      <td>Verna</td>\n",
       "      <td>Innova</td>\n",
       "    </tr>\n",
       "    <tr>\n",
       "      <th>5</th>\n",
       "      <td>Thar</td>\n",
       "      <td>Crreta</td>\n",
       "      <td>Innova Crysta</td>\n",
       "    </tr>\n",
       "    <tr>\n",
       "      <th>6</th>\n",
       "      <td>Scorpio</td>\n",
       "      <td>Alazar</td>\n",
       "      <td>Fortuner</td>\n",
       "    </tr>\n",
       "  </tbody>\n",
       "</table>\n",
       "</div>"
      ],
      "text/plain": [
       "  Mahindra  Hundai         Toyota\n",
       "4  Thar ev   Verna         Innova\n",
       "5     Thar  Crreta  Innova Crysta\n",
       "6  Scorpio  Alazar       Fortuner"
      ]
     },
     "execution_count": 11,
     "metadata": {},
     "output_type": "execute_result"
    }
   ],
   "source": [
    "cars_.tail(3)"
   ]
  },
  {
   "cell_type": "code",
   "execution_count": 12,
   "metadata": {},
   "outputs": [
    {
     "data": {
      "text/html": [
       "<div>\n",
       "<style scoped>\n",
       "    .dataframe tbody tr th:only-of-type {\n",
       "        vertical-align: middle;\n",
       "    }\n",
       "\n",
       "    .dataframe tbody tr th {\n",
       "        vertical-align: top;\n",
       "    }\n",
       "\n",
       "    .dataframe thead th {\n",
       "        text-align: right;\n",
       "    }\n",
       "</style>\n",
       "<table border=\"1\" class=\"dataframe\">\n",
       "  <thead>\n",
       "    <tr style=\"text-align: right;\">\n",
       "      <th></th>\n",
       "      <th>Mahindra</th>\n",
       "      <th>Hundai</th>\n",
       "      <th>Toyota</th>\n",
       "    </tr>\n",
       "  </thead>\n",
       "  <tbody>\n",
       "    <tr>\n",
       "      <th>1</th>\n",
       "      <td>XUV500</td>\n",
       "      <td>i10 neu</td>\n",
       "      <td>Urban Cruser</td>\n",
       "    </tr>\n",
       "    <tr>\n",
       "      <th>2</th>\n",
       "      <td>XUV700</td>\n",
       "      <td>Grand i10</td>\n",
       "      <td>Hyrider</td>\n",
       "    </tr>\n",
       "    <tr>\n",
       "      <th>3</th>\n",
       "      <td>XUV700ev</td>\n",
       "      <td>i20</td>\n",
       "      <td>Hybird</td>\n",
       "    </tr>\n",
       "    <tr>\n",
       "      <th>4</th>\n",
       "      <td>Thar ev</td>\n",
       "      <td>Verna</td>\n",
       "      <td>Innova</td>\n",
       "    </tr>\n",
       "  </tbody>\n",
       "</table>\n",
       "</div>"
      ],
      "text/plain": [
       "   Mahindra     Hundai        Toyota\n",
       "1    XUV500    i10 neu  Urban Cruser\n",
       "2    XUV700  Grand i10       Hyrider\n",
       "3  XUV700ev        i20        Hybird\n",
       "4   Thar ev      Verna        Innova"
      ]
     },
     "execution_count": 12,
     "metadata": {},
     "output_type": "execute_result"
    }
   ],
   "source": [
    "cars_[1:5]"
   ]
  },
  {
   "cell_type": "code",
   "execution_count": 13,
   "metadata": {},
   "outputs": [
    {
     "data": {
      "text/plain": [
       "array([['XUV300', 'i10', 'Glanza'],\n",
       "       ['XUV500', 'i10 neu', 'Urban Cruser'],\n",
       "       ['XUV700', 'Grand i10', 'Hyrider'],\n",
       "       ['XUV700ev', 'i20', 'Hybird'],\n",
       "       ['Thar ev', 'Verna', 'Innova'],\n",
       "       ['Thar', 'Crreta', 'Innova Crysta'],\n",
       "       ['Scorpio', 'Alazar', 'Fortuner']], dtype=object)"
      ]
     },
     "execution_count": 13,
     "metadata": {},
     "output_type": "execute_result"
    }
   ],
   "source": [
    "cars_.to_numpy()"
   ]
  },
  {
   "cell_type": "code",
   "execution_count": 14,
   "metadata": {},
   "outputs": [
    {
     "data": {
      "text/html": [
       "<div>\n",
       "<style scoped>\n",
       "    .dataframe tbody tr th:only-of-type {\n",
       "        vertical-align: middle;\n",
       "    }\n",
       "\n",
       "    .dataframe tbody tr th {\n",
       "        vertical-align: top;\n",
       "    }\n",
       "\n",
       "    .dataframe thead th {\n",
       "        text-align: right;\n",
       "    }\n",
       "</style>\n",
       "<table border=\"1\" class=\"dataframe\">\n",
       "  <thead>\n",
       "    <tr style=\"text-align: right;\">\n",
       "      <th></th>\n",
       "      <th>Mahindra</th>\n",
       "    </tr>\n",
       "  </thead>\n",
       "  <tbody>\n",
       "    <tr>\n",
       "      <th>2</th>\n",
       "      <td>XUV700</td>\n",
       "    </tr>\n",
       "    <tr>\n",
       "      <th>3</th>\n",
       "      <td>XUV700ev</td>\n",
       "    </tr>\n",
       "    <tr>\n",
       "      <th>4</th>\n",
       "      <td>Thar ev</td>\n",
       "    </tr>\n",
       "  </tbody>\n",
       "</table>\n",
       "</div>"
      ],
      "text/plain": [
       "   Mahindra\n",
       "2    XUV700\n",
       "3  XUV700ev\n",
       "4   Thar ev"
      ]
     },
     "execution_count": 14,
     "metadata": {},
     "output_type": "execute_result"
    }
   ],
   "source": [
    "cars_.loc[[2,3,4], [\"Mahindra\"]]"
   ]
  },
  {
   "cell_type": "code",
   "execution_count": 15,
   "metadata": {},
   "outputs": [
    {
     "data": {
      "text/plain": [
       "'Fortuner'"
      ]
     },
     "execution_count": 15,
     "metadata": {},
     "output_type": "execute_result"
    }
   ],
   "source": [
    "cars_.iloc[6, 2]"
   ]
  }
 ],
 "metadata": {
  "kernelspec": {
   "display_name": "Python 3",
   "language": "python",
   "name": "python3"
  },
  "language_info": {
   "codemirror_mode": {
    "name": "ipython",
    "version": 3
   },
   "file_extension": ".py",
   "mimetype": "text/x-python",
   "name": "python",
   "nbconvert_exporter": "python",
   "pygments_lexer": "ipython3",
   "version": "3.12.3"
  }
 },
 "nbformat": 4,
 "nbformat_minor": 2
}
